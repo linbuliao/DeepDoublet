{
 "cells": [
  {
   "cell_type": "code",
   "execution_count": 1,
   "metadata": {},
   "outputs": [
    {
     "name": "stderr",
     "output_type": "stream",
     "text": [
      "C:\\Users\\nrx398\\AppData\\Local\\Continuum\\anaconda3\\lib\\site-packages\\numpy\\_distributor_init.py:32: UserWarning: loaded more than 1 DLL from .libs:\n",
      "C:\\Users\\nrx398\\AppData\\Local\\Continuum\\anaconda3\\lib\\site-packages\\numpy\\.libs\\libopenblas.JPIJNSWNNAN3CE6LLI5FWSPHUT2VXMTH.gfortran-win_amd64.dll\n",
      "C:\\Users\\nrx398\\AppData\\Local\\Continuum\\anaconda3\\lib\\site-packages\\numpy\\.libs\\libopenblas.NOIJJG62EMASZI6NYURL6JBKM4EVBGM7.gfortran-win_amd64.dll\n",
      "  stacklevel=1)\n",
      "Using TensorFlow backend.\n"
     ]
    }
   ],
   "source": [
    "import numpy as np\n",
    "from keras.models import Sequential, Model, load_model\n",
    "import pandas as pd\n",
    "import os"
   ]
  },
  {
   "cell_type": "code",
   "execution_count": 2,
   "metadata": {},
   "outputs": [],
   "source": [
    "save_root = 'DecompResult/'\n",
    "\n",
    "if not os.path.exists(save_root):\n",
    "    os.makedirs(save_root)"
   ]
  },
  {
   "cell_type": "code",
   "execution_count": 3,
   "metadata": {},
   "outputs": [],
   "source": [
    "def load(path, path_model1, path_model2):\n",
    "    \n",
    "    Doublets = pd.read_csv(path, index_col = 0).values.T\n",
    "    Doublets = Doublets / Doublets.sum(axis = 1).reshape((-1, 1)) * 1e6\n",
    "    \n",
    "    model1 = load_model(path_model1)\n",
    "    model2 = load_model(path_model2)\n",
    "    \n",
    "    return Doublets, model1, model2\n",
    "\n",
    "def Decompose(model1, model2, Doublets, cutoff1, cutoff2, main_name, save_root):\n",
    "\n",
    "    #raw\n",
    "    pred_1 = model1.predict(Doublets)\n",
    "    pred_2 = model2.predict(Doublets)\n",
    "\n",
    "    np.save(save_root + 'pred_raw_' + main_name + '_1.npy', pred_1)\n",
    "    np.save(save_root + 'pred_raw_' + main_name + '_2.npy', pred_2)\n",
    "\n",
    "    #max\n",
    "    pred_1_max = np.argmax(pred_1, axis = 1)\n",
    "    pred_2_max = np.argmax(pred_2, axis = 1)\n",
    "\n",
    "    np.save(save_root + 'pred_max_' + main_name + '_1.npy', np.array(pred_1_max))\n",
    "    np.save(save_root + 'pred_max_' + main_name + '_2.npy', np.array(pred_2_max))\n",
    "\n",
    "    #0.01\n",
    "    pred_1_cf = np.unique(np.where(pred_1>cutoff1)[1])\n",
    "    pred_2_cf = np.unique(np.where(pred_2>cutoff2)[1])\n",
    "\n",
    "    np.save(save_root + 'pred_' + str(cutoff1) + '_' + main_name + '_1.npy', np.array(pred_1_cf))\n",
    "    np.save(save_root + 'pred_' + str(cutoff2) + '_' + main_name + '_2.npy', np.array(pred_2_cf))"
   ]
  },
  {
   "cell_type": "code",
   "execution_count": 4,
   "metadata": {},
   "outputs": [
    {
     "name": "stdout",
     "output_type": "stream",
     "text": [
      "WARNING:tensorflow:From C:\\Users\\nrx398\\AppData\\Local\\Continuum\\anaconda3\\lib\\site-packages\\tensorflow_core\\python\\ops\\resource_variable_ops.py:1630: calling BaseResourceVariable.__init__ (from tensorflow.python.ops.resource_variable_ops) with constraint is deprecated and will be removed in a future version.\n",
      "Instructions for updating:\n",
      "If using Keras pass *_constraint arguments to layers.\n",
      "WARNING:tensorflow:From C:\\Users\\nrx398\\AppData\\Local\\Continuum\\anaconda3\\lib\\site-packages\\keras\\backend\\tensorflow_backend.py:422: The name tf.global_variables is deprecated. Please use tf.compat.v1.global_variables instead.\n",
      "\n"
     ]
    }
   ],
   "source": [
    "DoubFile = 'umi/pcSeq_umi.csv'\n",
    "path_model1 = 'DecompModel/Decomp_hep_LEC_1.h5'\n",
    "path_model2 = 'DecompModel/Decomp_hep_LEC_2.h5'\n",
    "Doublets, model1, model2 = load(DoubFile, path_model1, path_model2)"
   ]
  },
  {
   "cell_type": "code",
   "execution_count": 7,
   "metadata": {},
   "outputs": [],
   "source": [
    "Decompose(model1, model2, Doublets,\n",
    "          cutoff1=0.01, cutoff2=0.01,\n",
    "          main_name = 'hep_LEC', save_root = save_root)"
   ]
  },
  {
   "cell_type": "code",
   "execution_count": 6,
   "metadata": {},
   "outputs": [],
   "source": [
    "Decompose(model1, model2, Doublets,\n",
    "          cutoff1=0.005, cutoff2=0.005,\n",
    "          main_name = 'hep_LEC', save_root = save_root)"
   ]
  },
  {
   "cell_type": "code",
   "execution_count": null,
   "metadata": {},
   "outputs": [],
   "source": []
  }
 ],
 "metadata": {
  "kernelspec": {
   "display_name": "Python 3",
   "language": "python",
   "name": "python3"
  },
  "language_info": {
   "codemirror_mode": {
    "name": "ipython",
    "version": 3
   },
   "file_extension": ".py",
   "mimetype": "text/x-python",
   "name": "python",
   "nbconvert_exporter": "python",
   "pygments_lexer": "ipython3",
   "version": "3.7.4"
  }
 },
 "nbformat": 4,
 "nbformat_minor": 2
}
